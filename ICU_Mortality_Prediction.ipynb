{
 "cells": [
  {
   "cell_type": "code",
   "execution_count": 1,
   "metadata": {},
   "outputs": [],
   "source": [
    "import numpy as np\n",
    "import pandas as pd\n",
    "import math \n",
    "from sklearn.metrics import accuracy_score\n",
    "import keras\n",
    "import matplotlib.pyplot as plt\n",
    "import seaborn as sns\n",
    "%matplotlib inline"
   ]
  },
  {
   "cell_type": "code",
   "execution_count": 2,
   "metadata": {},
   "outputs": [],
   "source": [
    "df = pd.read_csv('C:/Users/shank/Downloads/Mortality+Prediction+in+ICU/Mortality Prediction in ICU/train.csv', encoding = 'utf-8')\n",
    "labels = pd.read_csv('C:/Users/shank/Downloads/Mortality+Prediction+in+ICU/Mortality Prediction in ICU/labels.csv', encoding = 'utf-8')"
   ]
  },
  {
   "cell_type": "code",
   "execution_count": 3,
   "metadata": {},
   "outputs": [
    {
     "data": {
      "text/html": [
       "<div>\n",
       "<style scoped>\n",
       "    .dataframe tbody tr th:only-of-type {\n",
       "        vertical-align: middle;\n",
       "    }\n",
       "\n",
       "    .dataframe tbody tr th {\n",
       "        vertical-align: top;\n",
       "    }\n",
       "\n",
       "    .dataframe thead th {\n",
       "        text-align: right;\n",
       "    }\n",
       "</style>\n",
       "<table border=\"1\" class=\"dataframe\">\n",
       "  <thead>\n",
       "    <tr style=\"text-align: right;\">\n",
       "      <th></th>\n",
       "      <th>ALP</th>\n",
       "      <th>ALT</th>\n",
       "      <th>AST</th>\n",
       "      <th>Age</th>\n",
       "      <th>Albumin</th>\n",
       "      <th>BUN</th>\n",
       "      <th>Bilirubin</th>\n",
       "      <th>Cholesterol</th>\n",
       "      <th>Creatinine</th>\n",
       "      <th>DiasABP</th>\n",
       "      <th>...</th>\n",
       "      <th>RespRate</th>\n",
       "      <th>SaO2</th>\n",
       "      <th>SysABP</th>\n",
       "      <th>Temp</th>\n",
       "      <th>TroponinI</th>\n",
       "      <th>TroponinT</th>\n",
       "      <th>Urine</th>\n",
       "      <th>WBC</th>\n",
       "      <th>Weight</th>\n",
       "      <th>pH</th>\n",
       "    </tr>\n",
       "  </thead>\n",
       "  <tbody>\n",
       "    <tr>\n",
       "      <th>0</th>\n",
       "      <td>77.0</td>\n",
       "      <td>31.0</td>\n",
       "      <td>46.0</td>\n",
       "      <td>54</td>\n",
       "      <td>2.973333</td>\n",
       "      <td>10.500000</td>\n",
       "      <td>0.7</td>\n",
       "      <td>154.0</td>\n",
       "      <td>0.750000</td>\n",
       "      <td>58.795833</td>\n",
       "      <td>...</td>\n",
       "      <td>17.428571</td>\n",
       "      <td>97.250000</td>\n",
       "      <td>116.891892</td>\n",
       "      <td>37.357143</td>\n",
       "      <td>2.1</td>\n",
       "      <td>0.14</td>\n",
       "      <td>171.052632</td>\n",
       "      <td>10.300000</td>\n",
       "      <td>80.060976</td>\n",
       "      <td>7.387273</td>\n",
       "    </tr>\n",
       "    <tr>\n",
       "      <th>1</th>\n",
       "      <td>77.0</td>\n",
       "      <td>31.0</td>\n",
       "      <td>46.0</td>\n",
       "      <td>76</td>\n",
       "      <td>2.973333</td>\n",
       "      <td>18.333333</td>\n",
       "      <td>0.7</td>\n",
       "      <td>154.0</td>\n",
       "      <td>1.100000</td>\n",
       "      <td>58.897059</td>\n",
       "      <td>...</td>\n",
       "      <td>19.000000</td>\n",
       "      <td>96.833333</td>\n",
       "      <td>113.411765</td>\n",
       "      <td>36.939130</td>\n",
       "      <td>2.1</td>\n",
       "      <td>0.14</td>\n",
       "      <td>151.560976</td>\n",
       "      <td>11.266667</td>\n",
       "      <td>80.670588</td>\n",
       "      <td>7.395000</td>\n",
       "    </tr>\n",
       "    <tr>\n",
       "      <th>2</th>\n",
       "      <td>116.0</td>\n",
       "      <td>83.0</td>\n",
       "      <td>199.5</td>\n",
       "      <td>44</td>\n",
       "      <td>2.500000</td>\n",
       "      <td>4.666667</td>\n",
       "      <td>2.9</td>\n",
       "      <td>154.0</td>\n",
       "      <td>0.333333</td>\n",
       "      <td>67.125000</td>\n",
       "      <td>...</td>\n",
       "      <td>19.000000</td>\n",
       "      <td>95.000000</td>\n",
       "      <td>125.687500</td>\n",
       "      <td>37.800000</td>\n",
       "      <td>2.1</td>\n",
       "      <td>0.14</td>\n",
       "      <td>124.951220</td>\n",
       "      <td>4.700000</td>\n",
       "      <td>56.700000</td>\n",
       "      <td>7.495000</td>\n",
       "    </tr>\n",
       "    <tr>\n",
       "      <th>3</th>\n",
       "      <td>105.0</td>\n",
       "      <td>12.0</td>\n",
       "      <td>15.0</td>\n",
       "      <td>68</td>\n",
       "      <td>4.400000</td>\n",
       "      <td>17.666667</td>\n",
       "      <td>0.2</td>\n",
       "      <td>154.0</td>\n",
       "      <td>0.766667</td>\n",
       "      <td>58.795833</td>\n",
       "      <td>...</td>\n",
       "      <td>15.457627</td>\n",
       "      <td>97.250000</td>\n",
       "      <td>116.891892</td>\n",
       "      <td>36.223077</td>\n",
       "      <td>2.1</td>\n",
       "      <td>0.14</td>\n",
       "      <td>545.833333</td>\n",
       "      <td>9.400000</td>\n",
       "      <td>84.600000</td>\n",
       "      <td>7.387273</td>\n",
       "    </tr>\n",
       "    <tr>\n",
       "      <th>4</th>\n",
       "      <td>77.0</td>\n",
       "      <td>31.0</td>\n",
       "      <td>46.0</td>\n",
       "      <td>88</td>\n",
       "      <td>3.300000</td>\n",
       "      <td>35.000000</td>\n",
       "      <td>0.7</td>\n",
       "      <td>154.0</td>\n",
       "      <td>1.000000</td>\n",
       "      <td>58.795833</td>\n",
       "      <td>...</td>\n",
       "      <td>19.166667</td>\n",
       "      <td>97.250000</td>\n",
       "      <td>116.891892</td>\n",
       "      <td>36.880000</td>\n",
       "      <td>2.1</td>\n",
       "      <td>0.14</td>\n",
       "      <td>62.131579</td>\n",
       "      <td>4.300000</td>\n",
       "      <td>80.060976</td>\n",
       "      <td>7.387273</td>\n",
       "    </tr>\n",
       "  </tbody>\n",
       "</table>\n",
       "<p>5 rows × 42 columns</p>\n",
       "</div>"
      ],
      "text/plain": [
       "     ALP   ALT    AST  Age   Albumin        BUN  Bilirubin  Cholesterol  \\\n",
       "0   77.0  31.0   46.0   54  2.973333  10.500000        0.7        154.0   \n",
       "1   77.0  31.0   46.0   76  2.973333  18.333333        0.7        154.0   \n",
       "2  116.0  83.0  199.5   44  2.500000   4.666667        2.9        154.0   \n",
       "3  105.0  12.0   15.0   68  4.400000  17.666667        0.2        154.0   \n",
       "4   77.0  31.0   46.0   88  3.300000  35.000000        0.7        154.0   \n",
       "\n",
       "   Creatinine    DiasABP  ...   RespRate       SaO2      SysABP       Temp  \\\n",
       "0    0.750000  58.795833  ...  17.428571  97.250000  116.891892  37.357143   \n",
       "1    1.100000  58.897059  ...  19.000000  96.833333  113.411765  36.939130   \n",
       "2    0.333333  67.125000  ...  19.000000  95.000000  125.687500  37.800000   \n",
       "3    0.766667  58.795833  ...  15.457627  97.250000  116.891892  36.223077   \n",
       "4    1.000000  58.795833  ...  19.166667  97.250000  116.891892  36.880000   \n",
       "\n",
       "   TroponinI  TroponinT       Urine        WBC     Weight        pH  \n",
       "0        2.1       0.14  171.052632  10.300000  80.060976  7.387273  \n",
       "1        2.1       0.14  151.560976  11.266667  80.670588  7.395000  \n",
       "2        2.1       0.14  124.951220   4.700000  56.700000  7.495000  \n",
       "3        2.1       0.14  545.833333   9.400000  84.600000  7.387273  \n",
       "4        2.1       0.14   62.131579   4.300000  80.060976  7.387273  \n",
       "\n",
       "[5 rows x 42 columns]"
      ]
     },
     "execution_count": 3,
     "metadata": {},
     "output_type": "execute_result"
    }
   ],
   "source": [
    "df.head()"
   ]
  },
  {
   "cell_type": "code",
   "execution_count": 4,
   "metadata": {},
   "outputs": [
    {
     "data": {
      "text/plain": [
       "Index(['ALP', 'ALT', 'AST', 'Age', 'Albumin', 'BUN', 'Bilirubin',\n",
       "       'Cholesterol', 'Creatinine', 'DiasABP', 'FiO2', 'GCS', 'Gender',\n",
       "       'Glucose', 'HCO3', 'HCT', 'HR', 'Height', 'ICUType', 'K', 'Lactate',\n",
       "       'MAP', 'MechVent', 'Mg', 'NIDiasABP', 'NIMAP', 'NISysABP', 'Na',\n",
       "       'PaCO2', 'PaO2', 'Platelets', 'RecordID', 'RespRate', 'SaO2', 'SysABP',\n",
       "       'Temp', 'TroponinI', 'TroponinT', 'Urine', 'WBC', 'Weight', 'pH'],\n",
       "      dtype='object')"
      ]
     },
     "execution_count": 4,
     "metadata": {},
     "output_type": "execute_result"
    }
   ],
   "source": [
    "df.columns"
   ]
  },
  {
   "cell_type": "code",
   "execution_count": 5,
   "metadata": {},
   "outputs": [
    {
     "data": {
      "text/plain": [
       "(3999, 42)"
      ]
     },
     "execution_count": 5,
     "metadata": {},
     "output_type": "execute_result"
    }
   ],
   "source": [
    "df.shape"
   ]
  },
  {
   "cell_type": "code",
   "execution_count": 6,
   "metadata": {},
   "outputs": [
    {
     "name": "stdout",
     "output_type": "stream",
     "text": [
      "<class 'pandas.core.frame.DataFrame'>\n",
      "RangeIndex: 3999 entries, 0 to 3998\n",
      "Data columns (total 42 columns):\n",
      " #   Column       Non-Null Count  Dtype  \n",
      "---  ------       --------------  -----  \n",
      " 0   ALP          3999 non-null   float64\n",
      " 1   ALT          3999 non-null   float64\n",
      " 2   AST          3999 non-null   float64\n",
      " 3   Age          3999 non-null   int64  \n",
      " 4   Albumin      3999 non-null   float64\n",
      " 5   BUN          3999 non-null   float64\n",
      " 6   Bilirubin    3999 non-null   float64\n",
      " 7   Cholesterol  3999 non-null   float64\n",
      " 8   Creatinine   3999 non-null   float64\n",
      " 9   DiasABP      3999 non-null   float64\n",
      " 10  FiO2         3999 non-null   float64\n",
      " 11  GCS          3999 non-null   float64\n",
      " 12  Gender       3999 non-null   int64  \n",
      " 13  Glucose      3999 non-null   float64\n",
      " 14  HCO3         3999 non-null   float64\n",
      " 15  HCT          3999 non-null   float64\n",
      " 16  HR           3999 non-null   float64\n",
      " 17  Height       3999 non-null   float64\n",
      " 18  ICUType      3999 non-null   int64  \n",
      " 19  K            3999 non-null   float64\n",
      " 20  Lactate      3999 non-null   float64\n",
      " 21  MAP          3999 non-null   float64\n",
      " 22  MechVent     3999 non-null   int64  \n",
      " 23  Mg           3999 non-null   float64\n",
      " 24  NIDiasABP    3999 non-null   float64\n",
      " 25  NIMAP        3999 non-null   float64\n",
      " 26  NISysABP     3999 non-null   float64\n",
      " 27  Na           3999 non-null   float64\n",
      " 28  PaCO2        3999 non-null   float64\n",
      " 29  PaO2         3999 non-null   float64\n",
      " 30  Platelets    3999 non-null   float64\n",
      " 31  RecordID     3999 non-null   float64\n",
      " 32  RespRate     3999 non-null   float64\n",
      " 33  SaO2         3999 non-null   float64\n",
      " 34  SysABP       3999 non-null   float64\n",
      " 35  Temp         3999 non-null   float64\n",
      " 36  TroponinI    3999 non-null   float64\n",
      " 37  TroponinT    3999 non-null   float64\n",
      " 38  Urine        3999 non-null   float64\n",
      " 39  WBC          3999 non-null   float64\n",
      " 40  Weight       3999 non-null   float64\n",
      " 41  pH           3999 non-null   float64\n",
      "dtypes: float64(38), int64(4)\n",
      "memory usage: 1.3 MB\n"
     ]
    }
   ],
   "source": [
    "df.info()"
   ]
  },
  {
   "cell_type": "code",
   "execution_count": 7,
   "metadata": {},
   "outputs": [
    {
     "data": {
      "text/html": [
       "<div>\n",
       "<style scoped>\n",
       "    .dataframe tbody tr th:only-of-type {\n",
       "        vertical-align: middle;\n",
       "    }\n",
       "\n",
       "    .dataframe tbody tr th {\n",
       "        vertical-align: top;\n",
       "    }\n",
       "\n",
       "    .dataframe thead th {\n",
       "        text-align: right;\n",
       "    }\n",
       "</style>\n",
       "<table border=\"1\" class=\"dataframe\">\n",
       "  <thead>\n",
       "    <tr style=\"text-align: right;\">\n",
       "      <th></th>\n",
       "      <th>ALP</th>\n",
       "      <th>ALT</th>\n",
       "      <th>AST</th>\n",
       "      <th>Age</th>\n",
       "      <th>Albumin</th>\n",
       "      <th>BUN</th>\n",
       "      <th>Bilirubin</th>\n",
       "      <th>Cholesterol</th>\n",
       "      <th>Creatinine</th>\n",
       "      <th>DiasABP</th>\n",
       "      <th>...</th>\n",
       "      <th>RespRate</th>\n",
       "      <th>SaO2</th>\n",
       "      <th>SysABP</th>\n",
       "      <th>Temp</th>\n",
       "      <th>TroponinI</th>\n",
       "      <th>TroponinT</th>\n",
       "      <th>Urine</th>\n",
       "      <th>WBC</th>\n",
       "      <th>Weight</th>\n",
       "      <th>pH</th>\n",
       "    </tr>\n",
       "  </thead>\n",
       "  <tbody>\n",
       "    <tr>\n",
       "      <th>count</th>\n",
       "      <td>3999.000000</td>\n",
       "      <td>3999.000000</td>\n",
       "      <td>3999.000000</td>\n",
       "      <td>3999.000000</td>\n",
       "      <td>3999.000000</td>\n",
       "      <td>3999.000000</td>\n",
       "      <td>3999.000000</td>\n",
       "      <td>3999.000000</td>\n",
       "      <td>3999.000000</td>\n",
       "      <td>3999.000000</td>\n",
       "      <td>...</td>\n",
       "      <td>3999.000000</td>\n",
       "      <td>3999.000000</td>\n",
       "      <td>3999.000000</td>\n",
       "      <td>3999.000000</td>\n",
       "      <td>3999.000000</td>\n",
       "      <td>3999.000000</td>\n",
       "      <td>3999.000000</td>\n",
       "      <td>3999.000000</td>\n",
       "      <td>3999.000000</td>\n",
       "      <td>3999.000000</td>\n",
       "    </tr>\n",
       "    <tr>\n",
       "      <th>mean</th>\n",
       "      <td>89.259978</td>\n",
       "      <td>91.709903</td>\n",
       "      <td>130.219258</td>\n",
       "      <td>64.247562</td>\n",
       "      <td>2.975942</td>\n",
       "      <td>25.449665</td>\n",
       "      <td>1.216527</td>\n",
       "      <td>152.403601</td>\n",
       "      <td>1.363130</td>\n",
       "      <td>59.262693</td>\n",
       "      <td>...</td>\n",
       "      <td>19.223967</td>\n",
       "      <td>96.940907</td>\n",
       "      <td>118.145550</td>\n",
       "      <td>36.956291</td>\n",
       "      <td>2.368702</td>\n",
       "      <td>0.337362</td>\n",
       "      <td>133.363074</td>\n",
       "      <td>12.521058</td>\n",
       "      <td>82.799384</td>\n",
       "      <td>7.488870</td>\n",
       "    </tr>\n",
       "    <tr>\n",
       "      <th>std</th>\n",
       "      <td>70.397850</td>\n",
       "      <td>427.290858</td>\n",
       "      <td>590.482153</td>\n",
       "      <td>17.563142</td>\n",
       "      <td>0.404440</td>\n",
       "      <td>20.586576</td>\n",
       "      <td>2.961385</td>\n",
       "      <td>13.891279</td>\n",
       "      <td>1.406947</td>\n",
       "      <td>9.080069</td>\n",
       "      <td>...</td>\n",
       "      <td>2.074830</td>\n",
       "      <td>2.296143</td>\n",
       "      <td>16.540816</td>\n",
       "      <td>0.727382</td>\n",
       "      <td>2.418656</td>\n",
       "      <td>1.276145</td>\n",
       "      <td>117.304284</td>\n",
       "      <td>6.466063</td>\n",
       "      <td>23.117431</td>\n",
       "      <td>2.986373</td>\n",
       "    </tr>\n",
       "    <tr>\n",
       "      <th>min</th>\n",
       "      <td>12.000000</td>\n",
       "      <td>3.000000</td>\n",
       "      <td>6.000000</td>\n",
       "      <td>15.000000</td>\n",
       "      <td>1.100000</td>\n",
       "      <td>2.250000</td>\n",
       "      <td>0.100000</td>\n",
       "      <td>0.000000</td>\n",
       "      <td>0.200000</td>\n",
       "      <td>0.000000</td>\n",
       "      <td>...</td>\n",
       "      <td>10.543478</td>\n",
       "      <td>38.800000</td>\n",
       "      <td>0.000000</td>\n",
       "      <td>21.644615</td>\n",
       "      <td>0.300000</td>\n",
       "      <td>0.010000</td>\n",
       "      <td>0.000000</td>\n",
       "      <td>0.100000</td>\n",
       "      <td>3.500000</td>\n",
       "      <td>6.311667</td>\n",
       "    </tr>\n",
       "    <tr>\n",
       "      <th>25%</th>\n",
       "      <td>77.000000</td>\n",
       "      <td>31.000000</td>\n",
       "      <td>46.000000</td>\n",
       "      <td>52.500000</td>\n",
       "      <td>2.973333</td>\n",
       "      <td>13.000000</td>\n",
       "      <td>0.700000</td>\n",
       "      <td>154.000000</td>\n",
       "      <td>0.700000</td>\n",
       "      <td>55.843712</td>\n",
       "      <td>...</td>\n",
       "      <td>19.000000</td>\n",
       "      <td>97.230769</td>\n",
       "      <td>111.099359</td>\n",
       "      <td>36.614286</td>\n",
       "      <td>2.100000</td>\n",
       "      <td>0.125000</td>\n",
       "      <td>74.044118</td>\n",
       "      <td>8.900000</td>\n",
       "      <td>68.201064</td>\n",
       "      <td>7.364142</td>\n",
       "    </tr>\n",
       "    <tr>\n",
       "      <th>50%</th>\n",
       "      <td>77.000000</td>\n",
       "      <td>31.000000</td>\n",
       "      <td>46.000000</td>\n",
       "      <td>67.000000</td>\n",
       "      <td>2.973333</td>\n",
       "      <td>19.000000</td>\n",
       "      <td>0.700000</td>\n",
       "      <td>154.000000</td>\n",
       "      <td>0.933333</td>\n",
       "      <td>58.795833</td>\n",
       "      <td>...</td>\n",
       "      <td>19.000000</td>\n",
       "      <td>97.250000</td>\n",
       "      <td>116.891892</td>\n",
       "      <td>36.968750</td>\n",
       "      <td>2.100000</td>\n",
       "      <td>0.140000</td>\n",
       "      <td>111.032258</td>\n",
       "      <td>11.466667</td>\n",
       "      <td>80.060976</td>\n",
       "      <td>7.387273</td>\n",
       "    </tr>\n",
       "    <tr>\n",
       "      <th>75%</th>\n",
       "      <td>82.000000</td>\n",
       "      <td>32.250000</td>\n",
       "      <td>49.000000</td>\n",
       "      <td>78.000000</td>\n",
       "      <td>3.000000</td>\n",
       "      <td>30.000000</td>\n",
       "      <td>0.700000</td>\n",
       "      <td>154.000000</td>\n",
       "      <td>1.366667</td>\n",
       "      <td>62.210006</td>\n",
       "      <td>...</td>\n",
       "      <td>19.290323</td>\n",
       "      <td>97.250000</td>\n",
       "      <td>123.504098</td>\n",
       "      <td>37.364401</td>\n",
       "      <td>2.100000</td>\n",
       "      <td>0.140000</td>\n",
       "      <td>160.419207</td>\n",
       "      <td>14.950000</td>\n",
       "      <td>93.040476</td>\n",
       "      <td>7.407500</td>\n",
       "    </tr>\n",
       "    <tr>\n",
       "      <th>max</th>\n",
       "      <td>1472.333333</td>\n",
       "      <td>9143.428571</td>\n",
       "      <td>15680.000000</td>\n",
       "      <td>90.000000</td>\n",
       "      <td>5.300000</td>\n",
       "      <td>170.833333</td>\n",
       "      <td>46.366667</td>\n",
       "      <td>330.000000</td>\n",
       "      <td>16.457143</td>\n",
       "      <td>106.666667</td>\n",
       "      <td>...</td>\n",
       "      <td>39.655172</td>\n",
       "      <td>100.000000</td>\n",
       "      <td>181.725000</td>\n",
       "      <td>39.748980</td>\n",
       "      <td>49.200000</td>\n",
       "      <td>24.040000</td>\n",
       "      <td>3082.380952</td>\n",
       "      <td>137.233333</td>\n",
       "      <td>300.000000</td>\n",
       "      <td>128.532500</td>\n",
       "    </tr>\n",
       "  </tbody>\n",
       "</table>\n",
       "<p>8 rows × 42 columns</p>\n",
       "</div>"
      ],
      "text/plain": [
       "               ALP          ALT           AST          Age      Albumin  \\\n",
       "count  3999.000000  3999.000000   3999.000000  3999.000000  3999.000000   \n",
       "mean     89.259978    91.709903    130.219258    64.247562     2.975942   \n",
       "std      70.397850   427.290858    590.482153    17.563142     0.404440   \n",
       "min      12.000000     3.000000      6.000000    15.000000     1.100000   \n",
       "25%      77.000000    31.000000     46.000000    52.500000     2.973333   \n",
       "50%      77.000000    31.000000     46.000000    67.000000     2.973333   \n",
       "75%      82.000000    32.250000     49.000000    78.000000     3.000000   \n",
       "max    1472.333333  9143.428571  15680.000000    90.000000     5.300000   \n",
       "\n",
       "               BUN    Bilirubin  Cholesterol   Creatinine      DiasABP  ...  \\\n",
       "count  3999.000000  3999.000000  3999.000000  3999.000000  3999.000000  ...   \n",
       "mean     25.449665     1.216527   152.403601     1.363130    59.262693  ...   \n",
       "std      20.586576     2.961385    13.891279     1.406947     9.080069  ...   \n",
       "min       2.250000     0.100000     0.000000     0.200000     0.000000  ...   \n",
       "25%      13.000000     0.700000   154.000000     0.700000    55.843712  ...   \n",
       "50%      19.000000     0.700000   154.000000     0.933333    58.795833  ...   \n",
       "75%      30.000000     0.700000   154.000000     1.366667    62.210006  ...   \n",
       "max     170.833333    46.366667   330.000000    16.457143   106.666667  ...   \n",
       "\n",
       "          RespRate         SaO2       SysABP         Temp    TroponinI  \\\n",
       "count  3999.000000  3999.000000  3999.000000  3999.000000  3999.000000   \n",
       "mean     19.223967    96.940907   118.145550    36.956291     2.368702   \n",
       "std       2.074830     2.296143    16.540816     0.727382     2.418656   \n",
       "min      10.543478    38.800000     0.000000    21.644615     0.300000   \n",
       "25%      19.000000    97.230769   111.099359    36.614286     2.100000   \n",
       "50%      19.000000    97.250000   116.891892    36.968750     2.100000   \n",
       "75%      19.290323    97.250000   123.504098    37.364401     2.100000   \n",
       "max      39.655172   100.000000   181.725000    39.748980    49.200000   \n",
       "\n",
       "         TroponinT        Urine          WBC       Weight           pH  \n",
       "count  3999.000000  3999.000000  3999.000000  3999.000000  3999.000000  \n",
       "mean      0.337362   133.363074    12.521058    82.799384     7.488870  \n",
       "std       1.276145   117.304284     6.466063    23.117431     2.986373  \n",
       "min       0.010000     0.000000     0.100000     3.500000     6.311667  \n",
       "25%       0.125000    74.044118     8.900000    68.201064     7.364142  \n",
       "50%       0.140000   111.032258    11.466667    80.060976     7.387273  \n",
       "75%       0.140000   160.419207    14.950000    93.040476     7.407500  \n",
       "max      24.040000  3082.380952   137.233333   300.000000   128.532500  \n",
       "\n",
       "[8 rows x 42 columns]"
      ]
     },
     "execution_count": 7,
     "metadata": {},
     "output_type": "execute_result"
    }
   ],
   "source": [
    "df.describe()"
   ]
  },
  {
   "cell_type": "code",
   "execution_count": 8,
   "metadata": {},
   "outputs": [
    {
     "data": {
      "text/plain": [
       "(3999, 1)"
      ]
     },
     "execution_count": 8,
     "metadata": {},
     "output_type": "execute_result"
    }
   ],
   "source": [
    "labels.shape"
   ]
  },
  {
   "cell_type": "code",
   "execution_count": 9,
   "metadata": {},
   "outputs": [
    {
     "data": {
      "text/html": [
       "<div>\n",
       "<style scoped>\n",
       "    .dataframe tbody tr th:only-of-type {\n",
       "        vertical-align: middle;\n",
       "    }\n",
       "\n",
       "    .dataframe tbody tr th {\n",
       "        vertical-align: top;\n",
       "    }\n",
       "\n",
       "    .dataframe thead th {\n",
       "        text-align: right;\n",
       "    }\n",
       "</style>\n",
       "<table border=\"1\" class=\"dataframe\">\n",
       "  <thead>\n",
       "    <tr style=\"text-align: right;\">\n",
       "      <th></th>\n",
       "      <th>In-hospital_death</th>\n",
       "    </tr>\n",
       "  </thead>\n",
       "  <tbody>\n",
       "    <tr>\n",
       "      <th>0</th>\n",
       "      <td>0</td>\n",
       "    </tr>\n",
       "    <tr>\n",
       "      <th>1</th>\n",
       "      <td>0</td>\n",
       "    </tr>\n",
       "    <tr>\n",
       "      <th>2</th>\n",
       "      <td>0</td>\n",
       "    </tr>\n",
       "    <tr>\n",
       "      <th>3</th>\n",
       "      <td>0</td>\n",
       "    </tr>\n",
       "    <tr>\n",
       "      <th>4</th>\n",
       "      <td>0</td>\n",
       "    </tr>\n",
       "    <tr>\n",
       "      <th>...</th>\n",
       "      <td>...</td>\n",
       "    </tr>\n",
       "    <tr>\n",
       "      <th>3994</th>\n",
       "      <td>0</td>\n",
       "    </tr>\n",
       "    <tr>\n",
       "      <th>3995</th>\n",
       "      <td>0</td>\n",
       "    </tr>\n",
       "    <tr>\n",
       "      <th>3996</th>\n",
       "      <td>0</td>\n",
       "    </tr>\n",
       "    <tr>\n",
       "      <th>3997</th>\n",
       "      <td>1</td>\n",
       "    </tr>\n",
       "    <tr>\n",
       "      <th>3998</th>\n",
       "      <td>0</td>\n",
       "    </tr>\n",
       "  </tbody>\n",
       "</table>\n",
       "<p>3999 rows × 1 columns</p>\n",
       "</div>"
      ],
      "text/plain": [
       "      In-hospital_death\n",
       "0                     0\n",
       "1                     0\n",
       "2                     0\n",
       "3                     0\n",
       "4                     0\n",
       "...                 ...\n",
       "3994                  0\n",
       "3995                  0\n",
       "3996                  0\n",
       "3997                  1\n",
       "3998                  0\n",
       "\n",
       "[3999 rows x 1 columns]"
      ]
     },
     "execution_count": 9,
     "metadata": {},
     "output_type": "execute_result"
    }
   ],
   "source": [
    "labels"
   ]
  },
  {
   "cell_type": "code",
   "execution_count": 10,
   "metadata": {},
   "outputs": [],
   "source": [
    "temp  =[]\n",
    "for i in labels[\"In-hospital_death\"]:\n",
    "  if i == 0:\n",
    "    temp.append([1,0])\n",
    "  else:\n",
    "    temp.append([0,1])\n",
    "temp = np.array(temp)"
   ]
  },
  {
   "cell_type": "code",
   "execution_count": 11,
   "metadata": {},
   "outputs": [
    {
     "name": "stdout",
     "output_type": "stream",
     "text": [
      "(3999, 2)\n"
     ]
    }
   ],
   "source": [
    "print(temp.shape)"
   ]
  },
  {
   "cell_type": "code",
   "execution_count": 12,
   "metadata": {},
   "outputs": [
    {
     "data": {
      "text/plain": [
       "array([[1, 0],\n",
       "       [1, 0],\n",
       "       [1, 0],\n",
       "       ...,\n",
       "       [1, 0],\n",
       "       [0, 1],\n",
       "       [1, 0]])"
      ]
     },
     "execution_count": 12,
     "metadata": {},
     "output_type": "execute_result"
    }
   ],
   "source": [
    "temp"
   ]
  },
  {
   "cell_type": "code",
   "execution_count": 13,
   "metadata": {},
   "outputs": [
    {
     "name": "stdout",
     "output_type": "stream",
     "text": [
      "(3999, 43)\n"
     ]
    }
   ],
   "source": [
    "new = pd.concat([df , labels] , axis = 1)\n",
    "print(new.shape)"
   ]
  },
  {
   "cell_type": "code",
   "execution_count": 14,
   "metadata": {},
   "outputs": [
    {
     "data": {
      "text/plain": [
       "(3999, 42)"
      ]
     },
     "execution_count": 14,
     "metadata": {},
     "output_type": "execute_result"
    }
   ],
   "source": [
    "new_df = new.drop(['In-hospital_death'] , axis =1)\n",
    "new_df.shape"
   ]
  },
  {
   "cell_type": "code",
   "execution_count": 15,
   "metadata": {},
   "outputs": [],
   "source": [
    "df = new_df"
   ]
  },
  {
   "cell_type": "code",
   "execution_count": 16,
   "metadata": {},
   "outputs": [],
   "source": [
    "df = df.drop(['Gender','Cholesterol','HCT','ICUType','Height'] , axis =1)"
   ]
  },
  {
   "cell_type": "code",
   "execution_count": 17,
   "metadata": {},
   "outputs": [],
   "source": [
    "from sklearn.preprocessing import MinMaxScaler\n",
    "scaler = MinMaxScaler(feature_range=(0, 1))\n",
    "df = scaler.fit_transform(df)"
   ]
  },
  {
   "cell_type": "code",
   "execution_count": 18,
   "metadata": {},
   "outputs": [],
   "source": [
    "X = df\n",
    "y = temp"
   ]
  },
  {
   "cell_type": "code",
   "execution_count": 19,
   "metadata": {},
   "outputs": [
    {
     "name": "stdout",
     "output_type": "stream",
     "text": [
      "(3999, 37) (3999, 2)\n"
     ]
    }
   ],
   "source": [
    "print(X.shape , y.shape)"
   ]
  },
  {
   "cell_type": "code",
   "execution_count": 20,
   "metadata": {},
   "outputs": [],
   "source": [
    "from sklearn.model_selection import train_test_split\n",
    "X_train , X_test , y_train , y_test  = train_test_split(X , y , test_size = 0.2)"
   ]
  },
  {
   "cell_type": "code",
   "execution_count": 21,
   "metadata": {},
   "outputs": [],
   "source": [
    "from keras.models import Sequential\n",
    "from keras.layers import Dense, Dropout , BatchNormalization\n",
    "import pandas as pd\n",
    "from sklearn.model_selection import train_test_split\n",
    "from keras.utils import np_utils\n",
    "from keras.optimizers import RMSprop, Adam"
   ]
  },
  {
   "cell_type": "code",
   "execution_count": 22,
   "metadata": {},
   "outputs": [
    {
     "name": "stdout",
     "output_type": "stream",
     "text": [
      "Model: \"sequential\"\n",
      "_________________________________________________________________\n",
      "Layer (type)                 Output Shape              Param #   \n",
      "=================================================================\n",
      "dense (Dense)                (None, 64)                2432      \n",
      "_________________________________________________________________\n",
      "dense_1 (Dense)              (None, 128)               8320      \n",
      "_________________________________________________________________\n",
      "dense_2 (Dense)              (None, 196)               25284     \n",
      "_________________________________________________________________\n",
      "dense_3 (Dense)              (None, 196)               38612     \n",
      "_________________________________________________________________\n",
      "batch_normalization (BatchNo (None, 196)               784       \n",
      "_________________________________________________________________\n",
      "dense_4 (Dense)              (None, 256)               50432     \n",
      "_________________________________________________________________\n",
      "dense_5 (Dense)              (None, 2)                 514       \n",
      "=================================================================\n",
      "Total params: 126,378\n",
      "Trainable params: 125,986\n",
      "Non-trainable params: 392\n",
      "_________________________________________________________________\n",
      "None\n"
     ]
    },
    {
     "name": "stderr",
     "output_type": "stream",
     "text": [
      "C:\\Users\\shank\\anaconda3\\lib\\site-packages\\tensorflow\\python\\keras\\optimizer_v2\\optimizer_v2.py:374: UserWarning: The `lr` argument is deprecated, use `learning_rate` instead.\n",
      "  warnings.warn(\n"
     ]
    }
   ],
   "source": [
    "model = Sequential()\n",
    "\n",
    "model.add(Dense(64, input_dim=X_train.shape[1] , activation='relu'))\n",
    "model.add(Dense(128, activation='relu'))\n",
    "model.add(Dense(196, activation='relu'))\n",
    "model.add(Dense(196, activation='relu'))\n",
    "\n",
    "model.add(BatchNormalization())\n",
    "\n",
    "model.add(Dense(256, activation='relu'))\n",
    "model.add(Dense(2, activation='sigmoid'))\n",
    "\n",
    "model.compile(optimizer = Adam(lr = 0.0005),loss='binary_crossentropy', metrics=['accuracy'])\n",
    "print(model.summary())"
   ]
  },
  {
   "cell_type": "code",
   "execution_count": 23,
   "metadata": {},
   "outputs": [
    {
     "name": "stdout",
     "output_type": "stream",
     "text": [
      "Epoch 1/15\n",
      "25/25 [==============================] - 27s 40ms/step - loss: 0.4985 - accuracy: 0.8297 - val_loss: 0.5799 - val_accuracy: 0.8575\n",
      "Epoch 2/15\n",
      "25/25 [==============================] - 0s 4ms/step - loss: 0.3404 - accuracy: 0.8600 - val_loss: 0.5460 - val_accuracy: 0.8575\n",
      "Epoch 3/15\n",
      "25/25 [==============================] - 0s 4ms/step - loss: 0.3012 - accuracy: 0.8734 - val_loss: 0.5396 - val_accuracy: 0.8575\n",
      "Epoch 4/15\n",
      "25/25 [==============================] - 0s 6ms/step - loss: 0.3043 - accuracy: 0.8732 - val_loss: 0.5088 - val_accuracy: 0.8575\n",
      "Epoch 5/15\n",
      "25/25 [==============================] - 0s 4ms/step - loss: 0.3155 - accuracy: 0.8651 - val_loss: 0.5009 - val_accuracy: 0.8575\n",
      "Epoch 6/15\n",
      "25/25 [==============================] - 0s 4ms/step - loss: 0.2865 - accuracy: 0.8831 - val_loss: 0.5030 - val_accuracy: 0.8575\n",
      "Epoch 7/15\n",
      "25/25 [==============================] - 0s 4ms/step - loss: 0.2829 - accuracy: 0.8872 - val_loss: 0.4909 - val_accuracy: 0.8575\n",
      "Epoch 8/15\n",
      "25/25 [==============================] - 0s 4ms/step - loss: 0.2887 - accuracy: 0.8846 - val_loss: 0.5006 - val_accuracy: 0.8575\n",
      "Epoch 9/15\n",
      "25/25 [==============================] - 0s 4ms/step - loss: 0.2911 - accuracy: 0.8780 - val_loss: 0.4585 - val_accuracy: 0.8575\n",
      "Epoch 10/15\n",
      "25/25 [==============================] - 0s 4ms/step - loss: 0.2744 - accuracy: 0.8865 - val_loss: 0.4479 - val_accuracy: 0.8587\n",
      "Epoch 11/15\n",
      "25/25 [==============================] - 0s 4ms/step - loss: 0.2572 - accuracy: 0.8926 - val_loss: 0.4583 - val_accuracy: 0.8587\n",
      "Epoch 12/15\n",
      "25/25 [==============================] - 0s 4ms/step - loss: 0.2816 - accuracy: 0.8869 - val_loss: 0.4077 - val_accuracy: 0.8587\n",
      "Epoch 13/15\n",
      "25/25 [==============================] - 0s 4ms/step - loss: 0.2699 - accuracy: 0.8859 - val_loss: 0.3873 - val_accuracy: 0.8612\n",
      "Epoch 14/15\n",
      "25/25 [==============================] - 0s 4ms/step - loss: 0.2388 - accuracy: 0.8978 - val_loss: 0.3820 - val_accuracy: 0.8587\n",
      "Epoch 15/15\n",
      "25/25 [==============================] - 0s 4ms/step - loss: 0.2527 - accuracy: 0.9031 - val_loss: 0.4128 - val_accuracy: 0.8725\n"
     ]
    }
   ],
   "source": [
    "history = model.fit(X_train, y_train , epochs=15 , batch_size = 128 , validation_data=(X_test, y_test))"
   ]
  },
  {
   "cell_type": "code",
   "execution_count": 24,
   "metadata": {},
   "outputs": [
    {
     "name": "stdout",
     "output_type": "stream",
     "text": [
      "dict_keys(['loss', 'accuracy', 'val_loss', 'val_accuracy'])\n"
     ]
    }
   ],
   "source": [
    "print(history.history.keys())"
   ]
  },
  {
   "cell_type": "code",
   "execution_count": 25,
   "metadata": {},
   "outputs": [
    {
     "data": {
      "image/png": "[encoded data removed]",
      "text/plain": [
       "<Figure size 432x288 with 1 Axes>"
      ]
     },
     "metadata": {
      "needs_background": "light"
     },
     "output_type": "display_data"
    }
   ],
   "source": [
    "plt.plot(history.history['accuracy'])\n",
    "plt.plot(history.history['val_accuracy'])\n",
    "plt.title('model accuracy')\n",
    "plt.ylabel('accuracy')\n",
    "plt.xlabel('epoch')\n",
    "plt.legend(['train', 'test'], loc='upper left')\n",
    "plt.show()"
   ]
  },
  {
   "cell_type": "code",
   "execution_count": 26,
   "metadata": {},
   "outputs": [
    {
     "data": {
      "image/png": "[encoded data removed]",
      "text/plain": [
       "<Figure size 432x288 with 1 Axes>"
      ]
     },
     "metadata": {
      "needs_background": "light"
     },
     "output_type": "display_data"
    }
   ],
   "source": [
    "plt.plot(history.history['loss'])\n",
    "plt.plot(history.history['val_loss'])\n",
    "plt.title('model loss')\n",
    "plt.ylabel('loss')\n",
    "plt.xlabel('epoch')\n",
    "plt.legend(['train', 'test'], loc='upper left')\n",
    "plt.show()"
   ]
  },
  {
   "cell_type": "code",
   "execution_count": 27,
   "metadata": {},
   "outputs": [],
   "source": [
    "from sklearn.metrics import confusion_matrix\n",
    "pred = model.predict(X_test)\n",
    "pred = np.argmax(pred,axis = 1) \n",
    "y_true = np.argmax(y_test,axis = 1)"
   ]
  },
  {
   "cell_type": "code",
   "execution_count": 28,
   "metadata": {},
   "outputs": [
    {
     "name": "stdout",
     "output_type": "stream",
     "text": [
      "[[671  15]\n",
      " [ 87  27]]\n"
     ]
    }
   ],
   "source": [
    "cnf_matrix = confusion_matrix(y_true, pred)\n",
    "print(cnf_matrix)"
   ]
  },
  {
   "cell_type": "code",
   "execution_count": 29,
   "metadata": {},
   "outputs": [
    {
     "name": "stdout",
     "output_type": "stream",
     "text": [
      "0.8725\n"
     ]
    }
   ],
   "source": [
    "print(accuracy_score(y_true,pred))"
   ]
  },
  {
   "cell_type": "code",
   "execution_count": null,
   "metadata": {},
   "outputs": [],
   "source": []
  }
 ],
 "metadata": {
  "kernelspec": {
   "display_name": "Python 3",
   "language": "python",
   "name": "python3"
  },
  "language_info": {
   "codemirror_mode": {
    "name": "ipython",
    "version": 3
   },
   "file_extension": ".py",
   "mimetype": "text/x-python",
   "name": "python",
   "nbconvert_exporter": "python",
   "pygments_lexer": "ipython3",
   "version": "3.8.5"
  }
 },
 "nbformat": 4,
 "nbformat_minor": 4
}
